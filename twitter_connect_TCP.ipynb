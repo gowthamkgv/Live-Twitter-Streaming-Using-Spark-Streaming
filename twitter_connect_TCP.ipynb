{
 "cells": [
  {
   "cell_type": "code",
   "execution_count": null,
   "metadata": {},
   "outputs": [],
   "source": [
    "import tweepy\n",
    "from tweepy import OAuthHandler\n",
    "from tweepy import Stream\n",
    "from tweepy.streaming import StreamListener"
   ]
  },
  {
   "cell_type": "code",
   "execution_count": null,
   "metadata": {},
   "outputs": [],
   "source": [
    "import socket\n",
    "import json"
   ]
  },
  {
   "cell_type": "code",
   "execution_count": null,
   "metadata": {},
   "outputs": [],
   "source": [
    "consumer_key = 'nVq5lNkT96Kyrs4KQgI3QsnR1'\n",
    "consumer_secret = 'ISNQKDwwC32NgoVhg1ZngguTrxRPPLCK59gZcMm1XvOpX1ichW'\n",
    "access_token = '229858372-bf6keqTDstTiQ7CHtkfMJTMIZVxwP5xTnYWVmX78'\n",
    "access_secret = 'j8crUu4BTDmFfH4HhYRsK7U2GOg8r2y1Yxcz0xLfEumUs'"
   ]
  },
  {
   "cell_type": "code",
   "execution_count": null,
   "metadata": {},
   "outputs": [],
   "source": [
    "class TweetsListener(StreamListener):\n",
    "    def __init__(self,csocket):\n",
    "        self.client_socket = csocket\n",
    "        \n",
    "    def on_data(self, data):\n",
    "    \n",
    "        try:\n",
    "            msg = json.loads(data.encode('utf-8'))\n",
    "            print(msg['user']['screen_name'])\n",
    "            print(msg['text'])\n",
    "            print(msg['created_at'])\n",
    "            self.client_socket.send(msg['text'])\n",
    "            return True\n",
    "        except BaseException as e:\n",
    "            print(\"error on data: %s\" %str(e))\n",
    "        return True \n",
    "    def on_error(self,status):\n",
    "            print(status)\n",
    "            return True"
   ]
  },
  {
   "cell_type": "code",
   "execution_count": null,
   "metadata": {},
   "outputs": [],
   "source": [
    "def sendData(c_socket):\n",
    "    auth=OAuthHandler(consumer_key,consumer_secret)\n",
    "    auth.set_access_token(access_token, access_secret)\n",
    "    twitter_stream = Stream(auth, TweetsListener(c_socket))\n",
    "    twitter_stream.filter(track=[\"Trump\"])\n",
    "    "
   ]
  },
  {
   "cell_type": "code",
   "execution_count": null,
   "metadata": {},
   "outputs": [],
   "source": [
    "s=socket.socket()\n",
    "host=\"localhost\"\n",
    "port=5558\n",
    "s.bind((host,port))\n",
    "print(\"Listening on port: %s\" % str(port))"
   ]
  },
  {
   "cell_type": "code",
   "execution_count": null,
   "metadata": {},
   "outputs": [],
   "source": [
    "s.listen(5)\n",
    "c, addr = s.accept()\n",
    "print(\"received request from :\"+str(port))"
   ]
  },
  {
   "cell_type": "code",
   "execution_count": null,
   "metadata": {},
   "outputs": [],
   "source": [
    "sendData(c)"
   ]
  },
  {
   "cell_type": "code",
   "execution_count": null,
   "metadata": {},
   "outputs": [],
   "source": [
    "def periodic_work(interval):\n",
    "    while True:\n",
    "        get_data()                                                                                                                                                                                                                                                 \n",
    "        time.sleep(interval)\n",
    "        \n",
    "        \n",
    "periodic_work(60)   "
   ]
  },
  {
   "cell_type": "code",
   "execution_count": null,
   "metadata": {},
   "outputs": [],
   "source": []
  }
 ],
 "metadata": {
  "kernelspec": {
   "display_name": "Python 3",
   "language": "python",
   "name": "python3"
  },
  "language_info": {
   "codemirror_mode": {
    "name": "ipython",
    "version": 3
   },
   "file_extension": ".py",
   "mimetype": "text/x-python",
   "name": "python",
   "nbconvert_exporter": "python",
   "pygments_lexer": "ipython3",
   "version": "3.7.3"
  }
 },
 "nbformat": 4,
 "nbformat_minor": 2
}
